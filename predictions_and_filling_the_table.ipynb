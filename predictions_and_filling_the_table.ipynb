{
  "cells": [
    {
      "cell_type": "markdown",
      "source": [
        "# Импортированные бибилиотеки"
      ],
      "metadata": {
        "id": "c4nbtRdwXTiv"
      }
    },
    {
      "cell_type": "code",
      "execution_count": null,
      "metadata": {
        "collapsed": true,
        "id": "0w03QMIJD9yY"
      },
      "outputs": [],
      "source": [
        "!pip install transformers auto-gptq"
      ]
    },
    {
      "cell_type": "code",
      "execution_count": null,
      "metadata": {
        "id": "8Lq997J0HHKM"
      },
      "outputs": [],
      "source": [
        "import torch"
      ]
    },
    {
      "cell_type": "code",
      "execution_count": null,
      "metadata": {
        "id": "AMlqnREeEeid"
      },
      "outputs": [],
      "source": [
        "import pandas as pd"
      ]
    },
    {
      "cell_type": "code",
      "execution_count": null,
      "metadata": {
        "id": "ya7DWx30G9Ek"
      },
      "outputs": [],
      "source": [
        "%%capture\n",
        "!pip install unsloth\n",
        "!pip uninstall unsloth -y && pip install --upgrade --no-cache-dir --no-deps git+https://github.com/unslothai/unsloth.git"
      ]
    },
    {
      "cell_type": "code",
      "execution_count": null,
      "metadata": {
        "colab": {
          "background_save": true
        },
        "collapsed": true,
        "id": "VOwf-EndIBR-"
      },
      "outputs": [],
      "source": [
        "!pip install flash-attn"
      ]
    },
    {
      "cell_type": "code",
      "execution_count": null,
      "metadata": {
        "id": "4sNoXBZ-KeHR"
      },
      "outputs": [],
      "source": [
        "from transformers import AutoTokenizer, AutoModelForMaskedLM\n",
        "from transformers import AutoModelForMaskedLM, AutoTokenizer"
      ]
    },
    {
      "cell_type": "code",
      "execution_count": null,
      "metadata": {
        "colab": {
          "background_save": true
        },
        "id": "bvdcObiXaNtb"
      },
      "outputs": [],
      "source": [
        "from openai import AsyncOpenAI"
      ]
    },
    {
      "cell_type": "code",
      "execution_count": null,
      "metadata": {
        "colab": {
          "background_save": true
        },
        "id": "xzP1OmpzMIRR"
      },
      "outputs": [],
      "source": [
        "import numpy as np\n",
        "import asyncio\n",
        "import os\n",
        "\n",
        "from tqdm.auto import tqdm\n",
        "from copy import deepcopy"
      ]
    },
    {
      "cell_type": "code",
      "execution_count": null,
      "metadata": {
        "colab": {
          "background_save": true
        },
        "collapsed": true,
        "id": "MWNe_CY_M9XQ"
      },
      "outputs": [],
      "source": [
        "!pip install pymorphy3"
      ]
    },
    {
      "cell_type": "code",
      "execution_count": null,
      "metadata": {
        "colab": {
          "background_save": true
        },
        "collapsed": true,
        "id": "a2aCly0PON2E"
      },
      "outputs": [],
      "source": [
        "!pip install nltk"
      ]
    },
    {
      "cell_type": "code",
      "execution_count": null,
      "metadata": {
        "colab": {
          "background_save": true
        },
        "id": "znpOgub-SA1s"
      },
      "outputs": [],
      "source": [
        "import pymorphy3"
      ]
    },
    {
      "cell_type": "code",
      "execution_count": null,
      "metadata": {
        "colab": {
          "background_save": true
        },
        "id": "LPd0DkV1-wss"
      },
      "outputs": [],
      "source": [
        "from pymystem3 import Mystem\n",
        "mystem = Mystem()"
      ]
    },
    {
      "cell_type": "code",
      "execution_count": null,
      "metadata": {
        "colab": {
          "background_save": true
        },
        "id": "vEG3_UkP_5K6"
      },
      "outputs": [],
      "source": [
        "import string"
      ]
    },
    {
      "cell_type": "markdown",
      "metadata": {
        "id": "eoDhxJWtFxH7"
      },
      "source": [
        "# Установка моделей"
      ]
    },
    {
      "cell_type": "code",
      "execution_count": null,
      "metadata": {
        "colab": {
          "background_save": true
        },
        "id": "eRkelHb8F4AN"
      },
      "outputs": [],
      "source": [
        "def install_gpt():\n",
        "  from auto_gptq import AutoGPTQForCausalLM\n",
        "\n",
        "\n",
        "  model_name = 'fffrrt/ruGPT-3.5-13B-GPTQ'\n",
        "  model_basename = 'gptq_model-4bit-128g'\n",
        "\n",
        "  tokenizer = AutoTokenizer.from_pretrained(model_name, use_fast=True)\n",
        "  model = AutoGPTQForCausalLM.from_quantized(model_name,\n",
        "          model_basename = model_basename,\n",
        "          use_safetensors=True,\n",
        "          trust_remote_code=True,\n",
        "          device_map='auto',\n",
        "          use_triton=False,\n",
        "          quantize_config=None)\n",
        "  return model, tokenizer\n"
      ]
    },
    {
      "cell_type": "code",
      "execution_count": null,
      "metadata": {
        "colab": {
          "background_save": true
        },
        "id": "iDls6iMLGP6g"
      },
      "outputs": [],
      "source": [
        "def install_llama():\n",
        "  from unsloth import FastLanguageModel\n",
        "  max_seq_length = 2048\n",
        "  dtype = None\n",
        "  load_in_4bit = True\n",
        "\n",
        "\n",
        "  fourbit_models = [\n",
        "      \"unsloth/Meta-Llama-3.1-8B-bnb-4bit\",      # Llama-3.1 15 trillion tokens model 2x faster!\n",
        "      \"unsloth/Meta-Llama-3.1-8B-Instruct-bnb-4bit\",\n",
        "      \"unsloth/Meta-Llama-3.1-70B-bnb-4bit\",\n",
        "      \"unsloth/Meta-Llama-3.1-405B-bnb-4bit\",    # We also uploaded 4bit for 405b!\n",
        "      \"unsloth/Mistral-Nemo-Base-2407-bnb-4bit\", # New Mistral 12b 2x faster!\n",
        "      \"unsloth/Mistral-Nemo-Instruct-2407-bnb-4bit\",\n",
        "      \"unsloth/mistral-7b-v0.3-bnb-4bit\",        # Mistral v3 2x faster!\n",
        "      \"unsloth/mistral-7b-instruct-v0.3-bnb-4bit\",\n",
        "      \"unsloth/Phi-3.5-mini-instruct\",           # Phi-3.5 2x faster!\n",
        "      \"unsloth/Phi-3-medium-4k-instruct\",\n",
        "      \"unsloth/gemma-2-9b-bnb-4bit\",\n",
        "      \"unsloth/gemma-2-27b-bnb-4bit\",            # Gemma 2x faster!\n",
        "      ]\n",
        "\n",
        "  model, tokenizer = FastLanguageModel.from_pretrained(\n",
        "      model_name = \"unsloth/Meta-Llama-3.1-8B\",\n",
        "      max_seq_length = max_seq_length,\n",
        "      dtype = dtype,\n",
        "      load_in_4bit = load_in_4bit,\n",
        "      )\n",
        "  return model, tokenizer"
      ]
    },
    {
      "cell_type": "code",
      "execution_count": null,
      "metadata": {
        "colab": {
          "background_save": true
        },
        "id": "FMlybqNsH2bO"
      },
      "outputs": [],
      "source": [
        "def install_bert_small():\n",
        "  model_id = \"deepvk/RuModernBERT-small\"\n",
        "  tokenizer = AutoTokenizer.from_pretrained(model_id)\n",
        "\n",
        "  model = AutoModelForMaskedLM.from_pretrained(model_id)\n",
        "  model = model.eval()\n",
        "  return model, tokenizer"
      ]
    },
    {
      "cell_type": "code",
      "execution_count": null,
      "metadata": {
        "colab": {
          "background_save": true
        },
        "id": "IN-XI5gcL3Tj"
      },
      "outputs": [],
      "source": [
        "def install_bert_big():\n",
        "  model_id = \"deepvk/RuModernBERT-base\"\n",
        "  tokenizer = AutoTokenizer.from_pretrained(model_id)\n",
        "\n",
        "  model = AutoModelForMaskedLM.from_pretrained(model_id)\n",
        "  model = model.eval()\n",
        "  return model, tokenizer"
      ]
    },
    {
      "cell_type": "code",
      "execution_count": null,
      "metadata": {
        "colab": {
          "background_save": true
        },
        "id": "phW2lfikMCfU"
      },
      "outputs": [],
      "source": [
        "local_client = AsyncOpenAI(\n",
        "    base_url=f\"https://openrouter.ai/api/v1\",\n",
        "    api_key=\"___\",\n",
        "    timeout=30\n",
        ")\n",
        "models_key = ['gpt-3.5', 'gpt-4', 'gpt-4t', 'gpt-4o', 'gpt-4om',\n",
        "              'mistral', 'mistral-q',\n",
        "              'llama', 'llama-q', 'llama405',\n",
        "              'qwen', 'phi', 'nemotron',\n",
        "              'qwen-reason']\n",
        "models = ['gpt-3.5-turbo-0125', 'gpt-4-0125-preview', 'gpt-4-turbo-2024-04-09', 'gpt-4o-2024-05-13', 'gpt-4o-mini-2024-07-18',\n",
        "          'mistralai/Mistral-Large-Instruct-2407', 'qeternity/Mistral-Large-Instruct-2407-w8a8',\n",
        "          'meta-llama/Meta-Llama-3.1-70B-Instruct', 'neuralmagic/Meta-Llama-3.1-70B-Instruct-quantized.w8a8', 'neuralmagic/Meta-Llama-3.1-405B-Instruct-quantized.w4a16',\n",
        "          'Qwen/Qwen2.5-72B-Instruct', 'microsoft/Phi-3-medium-128k-instruct', 'nvidia/Llama-3.1-Nemotron-70B-Instruct-HF',\n",
        "          'qwen/qwq-32b']\n",
        "timeout = [32, 512, 256, 128, 64, 1, 1, 1, 1]\n",
        "models_dict = dict(zip(models_key, models))\n",
        "timeout_dict = dict(zip(models_key, timeout))\n",
        "\n",
        "class LLM:\n",
        "    def __init__(self, use_cache=True, base_model='llama'):\n",
        "        self.reset(use_cache, base_model)\n",
        "\n",
        "    def reset(self, use_cache=True, base_model='llama'):\n",
        "        self.cache = {}\n",
        "        self.use_cache = use_cache\n",
        "        self.base_model = base_model\n",
        "\n",
        "    async def chat(self, messages, temperature=0, n=1, top_p=1, max_tokens=4096, is_opt=False):\n",
        "        if isinstance(messages, str):\n",
        "            messages = [{\"role\": \"user\", \"content\": messages}]\n",
        "        model_key = self.base_model\n",
        "        model = models_dict.get(model_key, model_key)\n",
        "        timeout = timeout_dict.get(model_key, 1)\n",
        "        if 'gpt' in model:\n",
        "            client = openAI_client\n",
        "        else:\n",
        "            client = local_client\n",
        "        id = str(messages) +  model\n",
        "        if id in self.cache and temperature == 0 and self.use_cache:\n",
        "            return deepcopy(self.cache[id])\n",
        "        retries = 0\n",
        "        while True:\n",
        "            try:\n",
        "                r = await client.chat.completions.create(\n",
        "                    model=model,\n",
        "                    messages=messages,\n",
        "                    temperature=temperature,\n",
        "                    n=n,\n",
        "                    top_p=top_p,\n",
        "                    max_tokens=max_tokens,\n",
        "                    timeout= np.random.exponential(timeout) * min(10, retries) + timeout if 'gpt' in model else 100000\n",
        "                )\n",
        "                break\n",
        "            except Exception as e:\n",
        "                print(e)\n",
        "                retries += 1\n",
        "                await asyncio.sleep(np.random.exponential(3))\n",
        "        self.cache[id] = [choice.message.content for choice in r.choices]\n",
        "        return deepcopy(self.cache[id])\n",
        "\n",
        "llm = LLM(base_model='qwen-reason')"
      ]
    },
    {
      "cell_type": "code",
      "execution_count": null,
      "metadata": {
        "colab": {
          "background_save": true
        },
        "id": "WpgR7CH4aHHV"
      },
      "outputs": [],
      "source": [
        "import re\n",
        "def extract_reasoning(s):\n",
        "    pattern = r\"<reason>(.*?)</reason>\"\n",
        "    match = re.search(pattern, s, flags=re.DOTALL)\n",
        "    if match:\n",
        "        return match.group(1).strip()\n",
        "    else:\n",
        "        return None\n",
        "\n",
        "def extract_answer(s):\n",
        "    pattern = r\"<answer>(.*?)</answer>\"\n",
        "    match = re.search(pattern, s, flags=re.DOTALL)\n",
        "    if match:\n",
        "        return match.group(1).strip()\n",
        "    else:\n",
        "        return None\n",
        "\n",
        "def extract_justification(s):\n",
        "    pattern = r\"<justification>(.*?)</justification>\"\n",
        "    match = re.search(pattern, s, flags=re.DOTALL)\n",
        "    if match:\n",
        "        return match.group(1).strip()\n",
        "    else:\n",
        "        return None"
      ]
    },
    {
      "cell_type": "markdown",
      "metadata": {
        "id": "D6QkbIIqGpXY"
      },
      "source": [
        "# Предсказание таргетного слова"
      ]
    },
    {
      "cell_type": "code",
      "execution_count": null,
      "metadata": {
        "id": "UPH0LK5tEkvG"
      },
      "outputs": [],
      "source": [
        "df_mask = pd.read_csv('sentences_mask.csv')"
      ]
    },
    {
      "cell_type": "markdown",
      "metadata": {
        "id": "p68bM6ZI8tPR"
      },
      "source": [
        "## Gpt и Llama"
      ]
    },
    {
      "cell_type": "code",
      "execution_count": null,
      "metadata": {
        "id": "NHrZbbxMUl-Q"
      },
      "outputs": [],
      "source": [
        "model, tokenizer = install_gpt() # можно заменить на install_llama"
      ]
    },
    {
      "cell_type": "code",
      "execution_count": null,
      "metadata": {
        "id": "4HwOENjtYU0x"
      },
      "outputs": [],
      "source": [
        "#    outputs = model.generate(\n",
        "#        **inputs,\n",
        "#        max_new_tokens=10,\n",
        "#        do_sample=True,\n",
        "#        top_k=100 / 50,\n",
        "#        top_p=0.95 / 0.9,\n",
        "#        temperature=0.7 / 0.4,\n",
        "#        num_return_sequences=3 / 5,\n",
        "#        eos_token_id=tokenizer.eos_token_id,\n",
        "#        pad_token_id=tokenizer.eos_token_id,\n",
        "#    )\""
      ]
    },
    {
      "cell_type": "code",
      "execution_count": null,
      "metadata": {
        "id": "fNcO7R9KW37l"
      },
      "outputs": [],
      "source": [
        "def predict_masked_word(sentence, tokenizer, model, max_length=1):\n",
        "    if \"<mask>\" not in sentence:\n",
        "        return \"\"\n",
        "\n",
        "    # Разбиваем на левый и правый контекст\n",
        "    prefix, _ = sentence.split(\"<mask>\", 1)\n",
        "\n",
        "    prompt = prefix.strip()\n",
        "    inputs = tokenizer(prompt, return_tensors=\"pt\").to(model.device)\n",
        "\n",
        "    outputs = model.generate(\n",
        "        **inputs,\n",
        "        max_new_tokens=max_length,\n",
        "        do_sample=True,\n",
        "        top_k=20,\n",
        "        temperature=0.7,\n",
        "        num_return_sequences=1,\n",
        "        pad_token_id=tokenizer.eos_token_id,\n",
        "        eos_token_id=tokenizer.eos_token_id\n",
        "    )\n",
        "\n",
        "    generated = tokenizer.decode(outputs[0], skip_special_tokens=True)\n",
        "\n",
        "    predicted_part = generated[len(prompt):].strip()\n",
        "\n",
        "    predicted_word = predicted_part.split()[0] if predicted_part else \"\"\n",
        "    return predicted_word\n"
      ]
    },
    {
      "cell_type": "code",
      "execution_count": null,
      "metadata": {
        "id": "4TGV0SlPYLmY"
      },
      "outputs": [],
      "source": [
        "predictions = []\n",
        "\n",
        "if __name__ == \"__main__\":\n",
        "\n",
        "    test_sentences = df_mask['Sentences_with_mask']\n",
        "    for sentence in test_sentences:\n",
        "        prediction = predict_masked_word(sentence, tokenizer, model)\n",
        "        predictions.append(prediction)\n",
        "\n",
        "        print(f\"Оригинальное предложение: {sentence}\")\n",
        "        print(f\"Предсказанное слово: {prediction}\")\n",
        "        print(\"-\" * 50)"
      ]
    },
    {
      "cell_type": "markdown",
      "metadata": {
        "id": "zAAczmHQY0t1"
      },
      "source": [
        "## Bert"
      ]
    },
    {
      "cell_type": "code",
      "execution_count": null,
      "metadata": {
        "id": "Y_eMiQRFZUMJ"
      },
      "outputs": [],
      "source": [
        "model, tokenizer = install_bert_small() # можно заменить на install_bert_big"
      ]
    },
    {
      "cell_type": "code",
      "execution_count": null,
      "metadata": {
        "id": "ewSE9S1wZIhD"
      },
      "outputs": [],
      "source": [
        "def predict_word(model, tokenizer, sentence):\n",
        "    try:\n",
        "        inputs = tokenizer(sentence, return_tensors=\"pt\")\n",
        "        masked_index = inputs[\"input_ids\"][0].tolist().index(tokenizer.mask_token_id)\n",
        "\n",
        "        outputs = model(**inputs)\n",
        "        predictions = outputs.logits\n",
        "        predicted_index = predictions[0, masked_index].argmax(dim=-1)\n",
        "        predicted_token = tokenizer.decode([predicted_index])\n",
        "        predicted_word = predicted_token.strip() # убираем пробелы в начале и конце\n",
        "        if predicted_word == tokenizer.unk_token:\n",
        "            return None\n",
        "        return predicted_word\n",
        "    except ValueError:\n",
        "        return None"
      ]
    },
    {
      "cell_type": "code",
      "execution_count": null,
      "metadata": {
        "id": "f_20EQWlZRhu"
      },
      "outputs": [],
      "source": [
        "predictions = []\n",
        "for index, row in df_mask.iterrows():\n",
        "    sentence = row['Sentences_with_mask'].replace(\"<mask>\", \"[MASK]\")\n",
        "    predicted_word = predict_word(model, tokenizer, sentence)\n",
        "\n",
        "    if predicted_word:\n",
        "        print(f\"Предсказанное слово: {predicted_word}\") # Добавим вывод предсказанного слова для каждой строки\n",
        "        predictions.append(predicted_word)\n",
        "    else:\n",
        "        print(\"Предсказанное слово: не удалось предсказать\")\n",
        "        predictions.append(None)"
      ]
    },
    {
      "cell_type": "markdown",
      "metadata": {
        "id": "fidQCjhOY-Da"
      },
      "source": [
        "## Qwen"
      ]
    },
    {
      "cell_type": "code",
      "execution_count": null,
      "metadata": {
        "colab": {
          "base_uri": "https://localhost:8080/",
          "height": 204
        },
        "id": "sitmhi6Ob_W6",
        "outputId": "6862e094-da52-4d87-9102-977b729e7966"
      },
      "outputs": [
        {
          "data": {
            "application/vnd.google.colaboratory.intrinsic+json": {
              "summary": "{\n  \"name\": \"df_mask\",\n  \"rows\": 144,\n  \"fields\": [\n    {\n      \"column\": \"Sentences_with_mask\",\n      \"properties\": {\n        \"dtype\": \"string\",\n        \"num_unique_values\": 144,\n        \"samples\": [\n          \"\\u041d\\u0430 \\u0432\\u0442\\u043e\\u0440\\u0438\\u0447\\u043d\\u043e\\u043c \\u0440\\u044b\\u043d\\u043a\\u0435 \\u0436\\u0438\\u043b\\u044c\\u044f <mask>  \\u0437\\u0430\\u043a\\u043b\\u0435\\u0438\\u0432\\u0430\\u044e\\u0442 \\u043e\\u0431\\u043e\\u044f\\u043c\\u0438 \\u0432\\u043e \\u0432\\u0440\\u0435\\u043c\\u044f \\u0440\\u0435\\u043c\\u043e\\u043d\\u0442\\u0430.\",\n          \"\\u0412\\u043e\\u0437\\u043c\\u043e\\u0436\\u043d\\u043e\\u0441\\u0442\\u0438 \\u044d\\u0442\\u0438\\u0445 \\u043f\\u0435\\u0440\\u0435\\u043c\\u0435\\u043d \\u0431\\u0443\\u0434\\u0443\\u0442 \\u043e\\u0431\\u0441\\u0443\\u0436\\u0434\\u0430\\u0442\\u044c\\u0441\\u044f \\u0432 \\u041f\\u0430\\u0440\\u0438\\u0436\\u0435 <mask> \\u0431\\u0443\\u0434\\u0443\\u0449\\u0435\\u0433\\u043e \\u0433\\u043e\\u0434\\u0430.\",\n          \"\\u0415\\u0439 \\u0445\\u043e\\u0442\\u0435\\u043b\\u043e\\u0441\\u044c \\u0432\\u044b\\u043f\\u043b\\u0435\\u0441\\u043d\\u0443\\u0442\\u044c \\u0447\\u0430\\u0439 \\u043d\\u0430 \\u0431\\u0435\\u0436\\u0435\\u0432\\u044b\\u0439 <mask> \\u043f\\u0438\\u0434\\u0436\\u0430\\u043a, \\u043d\\u043e \\u043e\\u043d\\u0430 \\u0441\\u0434\\u0435\\u0440\\u0436\\u0438\\u0432\\u0430\\u043b\\u0430\\u0441\\u044c.\"\n        ],\n        \"semantic_type\": \"\",\n        \"description\": \"\"\n      }\n    }\n  ]\n}",
              "type": "dataframe",
              "variable_name": "df_mask"
            },
            "text/html": [
              "\n",
              "  <div id=\"df-f0b9d992-72c6-46bc-9555-a6146a0b767a\" class=\"colab-df-container\">\n",
              "    <div>\n",
              "<style scoped>\n",
              "    .dataframe tbody tr th:only-of-type {\n",
              "        vertical-align: middle;\n",
              "    }\n",
              "\n",
              "    .dataframe tbody tr th {\n",
              "        vertical-align: top;\n",
              "    }\n",
              "\n",
              "    .dataframe thead th {\n",
              "        text-align: right;\n",
              "    }\n",
              "</style>\n",
              "<table border=\"1\" class=\"dataframe\">\n",
              "  <thead>\n",
              "    <tr style=\"text-align: right;\">\n",
              "      <th></th>\n",
              "      <th>Sentences_with_mask</th>\n",
              "    </tr>\n",
              "  </thead>\n",
              "  <tbody>\n",
              "    <tr>\n",
              "      <th>0</th>\n",
              "      <td>На болотах оставался ещё &lt;mask&gt;, но на берегах...</td>\n",
              "    </tr>\n",
              "    <tr>\n",
              "      <th>1</th>\n",
              "      <td>Он ловко поддел концом &lt;mask&gt; замочки и они от...</td>\n",
              "    </tr>\n",
              "    <tr>\n",
              "      <th>2</th>\n",
              "      <td>Ваня раскрыл было &lt;mask&gt;, но понял, что что-то...</td>\n",
              "    </tr>\n",
              "    <tr>\n",
              "      <th>3</th>\n",
              "      <td>Сделав мне знак помолчать, он приложил &lt;mask&gt; ...</td>\n",
              "    </tr>\n",
              "    <tr>\n",
              "      <th>4</th>\n",
              "      <td>Я сделала &lt;mask&gt; навстречу: приехала к ней, по...</td>\n",
              "    </tr>\n",
              "  </tbody>\n",
              "</table>\n",
              "</div>\n",
              "    <div class=\"colab-df-buttons\">\n",
              "\n",
              "  <div class=\"colab-df-container\">\n",
              "    <button class=\"colab-df-convert\" onclick=\"convertToInteractive('df-f0b9d992-72c6-46bc-9555-a6146a0b767a')\"\n",
              "            title=\"Convert this dataframe to an interactive table.\"\n",
              "            style=\"display:none;\">\n",
              "\n",
              "  <svg xmlns=\"http://www.w3.org/2000/svg\" height=\"24px\" viewBox=\"0 -960 960 960\">\n",
              "    <path d=\"M120-120v-720h720v720H120Zm60-500h600v-160H180v160Zm220 220h160v-160H400v160Zm0 220h160v-160H400v160ZM180-400h160v-160H180v160Zm440 0h160v-160H620v160ZM180-180h160v-160H180v160Zm440 0h160v-160H620v160Z\"/>\n",
              "  </svg>\n",
              "    </button>\n",
              "\n",
              "  <style>\n",
              "    .colab-df-container {\n",
              "      display:flex;\n",
              "      gap: 12px;\n",
              "    }\n",
              "\n",
              "    .colab-df-convert {\n",
              "      background-color: #E8F0FE;\n",
              "      border: none;\n",
              "      border-radius: 50%;\n",
              "      cursor: pointer;\n",
              "      display: none;\n",
              "      fill: #1967D2;\n",
              "      height: 32px;\n",
              "      padding: 0 0 0 0;\n",
              "      width: 32px;\n",
              "    }\n",
              "\n",
              "    .colab-df-convert:hover {\n",
              "      background-color: #E2EBFA;\n",
              "      box-shadow: 0px 1px 2px rgba(60, 64, 67, 0.3), 0px 1px 3px 1px rgba(60, 64, 67, 0.15);\n",
              "      fill: #174EA6;\n",
              "    }\n",
              "\n",
              "    .colab-df-buttons div {\n",
              "      margin-bottom: 4px;\n",
              "    }\n",
              "\n",
              "    [theme=dark] .colab-df-convert {\n",
              "      background-color: #3B4455;\n",
              "      fill: #D2E3FC;\n",
              "    }\n",
              "\n",
              "    [theme=dark] .colab-df-convert:hover {\n",
              "      background-color: #434B5C;\n",
              "      box-shadow: 0px 1px 3px 1px rgba(0, 0, 0, 0.15);\n",
              "      filter: drop-shadow(0px 1px 2px rgba(0, 0, 0, 0.3));\n",
              "      fill: #FFFFFF;\n",
              "    }\n",
              "  </style>\n",
              "\n",
              "    <script>\n",
              "      const buttonEl =\n",
              "        document.querySelector('#df-f0b9d992-72c6-46bc-9555-a6146a0b767a button.colab-df-convert');\n",
              "      buttonEl.style.display =\n",
              "        google.colab.kernel.accessAllowed ? 'block' : 'none';\n",
              "\n",
              "      async function convertToInteractive(key) {\n",
              "        const element = document.querySelector('#df-f0b9d992-72c6-46bc-9555-a6146a0b767a');\n",
              "        const dataTable =\n",
              "          await google.colab.kernel.invokeFunction('convertToInteractive',\n",
              "                                                    [key], {});\n",
              "        if (!dataTable) return;\n",
              "\n",
              "        const docLinkHtml = 'Like what you see? Visit the ' +\n",
              "          '<a target=\"_blank\" href=https://colab.research.google.com/notebooks/data_table.ipynb>data table notebook</a>'\n",
              "          + ' to learn more about interactive tables.';\n",
              "        element.innerHTML = '';\n",
              "        dataTable['output_type'] = 'display_data';\n",
              "        await google.colab.output.renderOutput(dataTable, element);\n",
              "        const docLink = document.createElement('div');\n",
              "        docLink.innerHTML = docLinkHtml;\n",
              "        element.appendChild(docLink);\n",
              "      }\n",
              "    </script>\n",
              "  </div>\n",
              "\n",
              "\n",
              "<div id=\"df-dffb57df-60bb-4a10-b4b7-5403b82aa244\">\n",
              "  <button class=\"colab-df-quickchart\" onclick=\"quickchart('df-dffb57df-60bb-4a10-b4b7-5403b82aa244')\"\n",
              "            title=\"Suggest charts\"\n",
              "            style=\"display:none;\">\n",
              "\n",
              "<svg xmlns=\"http://www.w3.org/2000/svg\" height=\"24px\"viewBox=\"0 0 24 24\"\n",
              "     width=\"24px\">\n",
              "    <g>\n",
              "        <path d=\"M19 3H5c-1.1 0-2 .9-2 2v14c0 1.1.9 2 2 2h14c1.1 0 2-.9 2-2V5c0-1.1-.9-2-2-2zM9 17H7v-7h2v7zm4 0h-2V7h2v10zm4 0h-2v-4h2v4z\"/>\n",
              "    </g>\n",
              "</svg>\n",
              "  </button>\n",
              "\n",
              "<style>\n",
              "  .colab-df-quickchart {\n",
              "      --bg-color: #E8F0FE;\n",
              "      --fill-color: #1967D2;\n",
              "      --hover-bg-color: #E2EBFA;\n",
              "      --hover-fill-color: #174EA6;\n",
              "      --disabled-fill-color: #AAA;\n",
              "      --disabled-bg-color: #DDD;\n",
              "  }\n",
              "\n",
              "  [theme=dark] .colab-df-quickchart {\n",
              "      --bg-color: #3B4455;\n",
              "      --fill-color: #D2E3FC;\n",
              "      --hover-bg-color: #434B5C;\n",
              "      --hover-fill-color: #FFFFFF;\n",
              "      --disabled-bg-color: #3B4455;\n",
              "      --disabled-fill-color: #666;\n",
              "  }\n",
              "\n",
              "  .colab-df-quickchart {\n",
              "    background-color: var(--bg-color);\n",
              "    border: none;\n",
              "    border-radius: 50%;\n",
              "    cursor: pointer;\n",
              "    display: none;\n",
              "    fill: var(--fill-color);\n",
              "    height: 32px;\n",
              "    padding: 0;\n",
              "    width: 32px;\n",
              "  }\n",
              "\n",
              "  .colab-df-quickchart:hover {\n",
              "    background-color: var(--hover-bg-color);\n",
              "    box-shadow: 0 1px 2px rgba(60, 64, 67, 0.3), 0 1px 3px 1px rgba(60, 64, 67, 0.15);\n",
              "    fill: var(--button-hover-fill-color);\n",
              "  }\n",
              "\n",
              "  .colab-df-quickchart-complete:disabled,\n",
              "  .colab-df-quickchart-complete:disabled:hover {\n",
              "    background-color: var(--disabled-bg-color);\n",
              "    fill: var(--disabled-fill-color);\n",
              "    box-shadow: none;\n",
              "  }\n",
              "\n",
              "  .colab-df-spinner {\n",
              "    border: 2px solid var(--fill-color);\n",
              "    border-color: transparent;\n",
              "    border-bottom-color: var(--fill-color);\n",
              "    animation:\n",
              "      spin 1s steps(1) infinite;\n",
              "  }\n",
              "\n",
              "  @keyframes spin {\n",
              "    0% {\n",
              "      border-color: transparent;\n",
              "      border-bottom-color: var(--fill-color);\n",
              "      border-left-color: var(--fill-color);\n",
              "    }\n",
              "    20% {\n",
              "      border-color: transparent;\n",
              "      border-left-color: var(--fill-color);\n",
              "      border-top-color: var(--fill-color);\n",
              "    }\n",
              "    30% {\n",
              "      border-color: transparent;\n",
              "      border-left-color: var(--fill-color);\n",
              "      border-top-color: var(--fill-color);\n",
              "      border-right-color: var(--fill-color);\n",
              "    }\n",
              "    40% {\n",
              "      border-color: transparent;\n",
              "      border-right-color: var(--fill-color);\n",
              "      border-top-color: var(--fill-color);\n",
              "    }\n",
              "    60% {\n",
              "      border-color: transparent;\n",
              "      border-right-color: var(--fill-color);\n",
              "    }\n",
              "    80% {\n",
              "      border-color: transparent;\n",
              "      border-right-color: var(--fill-color);\n",
              "      border-bottom-color: var(--fill-color);\n",
              "    }\n",
              "    90% {\n",
              "      border-color: transparent;\n",
              "      border-bottom-color: var(--fill-color);\n",
              "    }\n",
              "  }\n",
              "</style>\n",
              "\n",
              "  <script>\n",
              "    async function quickchart(key) {\n",
              "      const quickchartButtonEl =\n",
              "        document.querySelector('#' + key + ' button');\n",
              "      quickchartButtonEl.disabled = true;  // To prevent multiple clicks.\n",
              "      quickchartButtonEl.classList.add('colab-df-spinner');\n",
              "      try {\n",
              "        const charts = await google.colab.kernel.invokeFunction(\n",
              "            'suggestCharts', [key], {});\n",
              "      } catch (error) {\n",
              "        console.error('Error during call to suggestCharts:', error);\n",
              "      }\n",
              "      quickchartButtonEl.classList.remove('colab-df-spinner');\n",
              "      quickchartButtonEl.classList.add('colab-df-quickchart-complete');\n",
              "    }\n",
              "    (() => {\n",
              "      let quickchartButtonEl =\n",
              "        document.querySelector('#df-dffb57df-60bb-4a10-b4b7-5403b82aa244 button');\n",
              "      quickchartButtonEl.style.display =\n",
              "        google.colab.kernel.accessAllowed ? 'block' : 'none';\n",
              "    })();\n",
              "  </script>\n",
              "</div>\n",
              "    </div>\n",
              "  </div>\n"
            ],
            "text/plain": [
              "                                 Sentences_with_mask\n",
              "0  На болотах оставался ещё <mask>, но на берегах...\n",
              "1  Он ловко поддел концом <mask> замочки и они от...\n",
              "2  Ваня раскрыл было <mask>, но понял, что что-то...\n",
              "3  Сделав мне знак помолчать, он приложил <mask> ...\n",
              "4  Я сделала <mask> навстречу: приехала к ней, по..."
            ]
          },
          "execution_count": 9,
          "metadata": {},
          "output_type": "execute_result"
        }
      ],
      "source": [
        "df_mask.head()"
      ]
    },
    {
      "cell_type": "code",
      "execution_count": null,
      "metadata": {
        "id": "sqrBk1KzanoP"
      },
      "outputs": [],
      "source": [
        "async def fill_mask(sentence_with_mask):\n",
        "    \"\"\"\n",
        "    Predicts the missing word based ONLY on the left context before <mask>.\n",
        "    Handles model hallucinations like 'Ответ' and ignores invalid outputs.\n",
        "    \"\"\"\n",
        "    if \"<mask>\" not in sentence_with_mask:\n",
        "        return \"\"\n",
        "\n",
        "    prefix = sentence_with_mask.split(\"<mask>\")[0].strip()\n",
        "\n",
        "    prompt = f\"Предложение нельзя оставить без предсказания. Напиши одно слово, которое может продолжить предложение: '{prefix}'\\nОтвет:\"\n",
        "\n",
        "    try:\n",
        "        response = await llm.chat(prompt)\n",
        "        generated_text = response[0].strip()\n",
        "    except Exception as e:\n",
        "        print(f\"Ошибка от модели: {e}\")\n",
        "        return \"\"\n",
        "\n",
        "\n",
        "    generated_text = generated_text.replace(\"Ответ:\", \"\").strip()\n",
        "\n",
        "    words = generated_text.split()\n",
        "\n",
        "    if not words:\n",
        "        return \"\"\n",
        "\n",
        "    # Берём первое осмысленное слово, игнорируя \"Ответ\", \"ответ\", \":\", \"—\" и прочее\n",
        "    for word in words:\n",
        "        clean_word = word.strip(\".,:;!?—-\\\"'\")\n",
        "        if clean_word.lower() not in [\"\", \"ответ\", \":\", \"\"]:\n",
        "            return clean_word\n",
        "\n",
        "    return \"\"\n"
      ]
    },
    {
      "cell_type": "code",
      "execution_count": null,
      "metadata": {
        "id": "gE3KSUsEbUP6"
      },
      "outputs": [],
      "source": [
        "async def process_dataframe(df):\n",
        "    \"\"\"\n",
        "    Processes the DataFrame by filling masks in all sentences.\n",
        "    \"\"\"\n",
        "    predicted_words = []\n",
        "    for sentence in tqdm(df['Sentences_with_mask'], desc=\"Processing sentences\", unit=\"sentence\"):\n",
        "        predicted_word = await fill_mask(sentence)\n",
        "        predicted_words.append(predicted_word)\n",
        "\n",
        "    df['Predicted_Words'] = predicted_words\n",
        "    return df"
      ]
    },
    {
      "cell_type": "code",
      "execution_count": null,
      "metadata": {
        "id": "1kOZMBKSbfWm"
      },
      "outputs": [],
      "source": [
        "async def main():\n",
        "    new_df = await process_dataframe(df_mask)\n",
        "    print(new_df)"
      ]
    },
    {
      "cell_type": "code",
      "execution_count": null,
      "metadata": {
        "id": "QKhFYMxvbX-9"
      },
      "outputs": [],
      "source": [
        "await main()"
      ]
    },
    {
      "cell_type": "code",
      "execution_count": null,
      "metadata": {
        "id": "v7vEprjsGIdR"
      },
      "outputs": [],
      "source": [
        "df_mask.to_csv('qwen_result.csv')"
      ]
    },
    {
      "cell_type": "markdown",
      "metadata": {
        "id": "1uca28a5-q1A"
      },
      "source": [
        "# Обработка предсказаний"
      ]
    },
    {
      "cell_type": "code",
      "execution_count": null,
      "metadata": {
        "id": "lNe90_Oz_NRb"
      },
      "outputs": [],
      "source": [
        "def get_pos(word):\n",
        "    \"\"\"Получаем POS-тег для слова, используется Mystem.\"\"\"\n",
        "    try:\n",
        "        analyzed = mystem.analyze(word)\n",
        "        if analyzed and 'analysis' in analyzed[0] and analyzed[0]['analysis']:\n",
        "            gr = analyzed[0]['analysis'][0]['gr']\n",
        "            pos = gr.split(',')[0].split('=')[0] # извлекаем только часть речи\n",
        "            return pos\n",
        "    except Exception as e:\n",
        "        print(f\"Ошибка при анализе слова '{word}': {e}\")\n",
        "        return None\n",
        "    return None"
      ]
    },
    {
      "cell_type": "code",
      "execution_count": null,
      "metadata": {
        "id": "8r7CtmbX_NDk"
      },
      "outputs": [],
      "source": [
        "def get_lemma(word):\n",
        "    \"\"\"Получаем лемму слова\"\"\"\n",
        "    try:\n",
        "        analyzed = mystem.analyze(word)\n",
        "        if analyzed and 'analysis' in analyzed[0] and analyzed[0]['analysis']:\n",
        "            lemma = analyzed[0]['analysis'][0]['lex']\n",
        "            return lemma\n",
        "    except Exception as e:\n",
        "        print(f\"Ошибка при лемматизации слова '{word}': {e}\")\n",
        "        return None\n",
        "    return None"
      ]
    },
    {
      "cell_type": "code",
      "execution_count": null,
      "metadata": {
        "id": "Mt8HBL_n_QzZ"
      },
      "outputs": [],
      "source": [
        "def get_length_category(word):\n",
        "    \"\"\"Определяет категорию длины слова\"\"\"\n",
        "    word_len = len(word)\n",
        "    if 1 <= word_len <= 4:\n",
        "        return 'short'\n",
        "    elif 5 <= word_len <= 7:\n",
        "        return 'medium'\n",
        "    elif word_len >= 7:\n",
        "        return 'long'"
      ]
    },
    {
      "cell_type": "code",
      "execution_count": null,
      "metadata": {
        "id": "8zYOtbmJ_bBR"
      },
      "outputs": [],
      "source": [
        "for index, row in df_mask.iterrows():\n",
        "    predicted_word_dirty = row['Predicted_Words']\n",
        "    predicted_word = predicted_word_dirty.rstrip(string.punctuation)\n",
        "    if predicted_word_dirty == '___' or predicted_word_dirty.startswith('Предсказанное слово: не удалось предсказать') or predicted_word_dirty.startswith('Вывод') or not predicted_word.strip():\n",
        "        df_mask.loc[index, 'lengt_pred'] = 'Ошибка предсказания'\n",
        "        df_mask.loc[index, 'char_pred'] = 'Ошибка предсказания'\n",
        "        df_mask.loc[index, 'POS_pred'] = 'Ошибка предсказания'\n",
        "        df_mask.loc[index, 'POS_hitting'] = 'Ошибка предсказания'\n",
        "        df_mask.loc[index, 'Semantic_similarity'] = 'Ошибка предсказания'\n",
        "        df_mask.loc[index, 'Error_type_pred'] = 'Ошибка предсказания'\n",
        "    else:\n",
        "        # char_pred\n",
        "        df_mask.loc[index, 'char_pred'] = len(predicted_word)\n",
        "\n",
        "        # lengt_pred\n",
        "        df_mask.loc[index, 'lengt_pred'] = get_length_category(predicted_word)\n",
        "\n",
        "        # POS_pred\n",
        "        pos_pred = get_pos(predicted_word)\n",
        "        df_mask.loc[index, 'POS_pred'] = pos_pred\n",
        "\n",
        "        # POS_hitting\n",
        "        pos_target = get_pos(row['target'])\n",
        "        if pos_pred and pos_target:\n",
        "            df_mask.loc[index, 'POS_hitting'] = 1 if pos_pred == pos_target else 0\n",
        "        else:\n",
        "            df_mask.loc[index, 'POS_hitting'] = 0"
      ]
    },
    {
      "cell_type": "markdown",
      "metadata": {
        "id": "7dLX5Kf1Ai5w"
      },
      "source": [
        "# Обработка результатов людей"
      ]
    },
    {
      "cell_type": "code",
      "execution_count": null,
      "metadata": {
        "id": "TlAOJnL8Am8M"
      },
      "outputs": [],
      "source": [
        "pos_mapping = {\n",
        "    'S': 'NOUN',\n",
        "    'V': 'VERB',\n",
        "    'A': 'ADJF',\n",
        "    'ADV': 'ADVB',\n",
        "    'PR': 'PREP',\n",
        "    'CONJ': 'CONJ',\n",
        "    'PART': 'PRCL',\n",
        "    'INTJ': 'INTJ',\n",
        "    'NUM': 'NUMR',\n",
        "    'ANUM': 'NUMR',\n",
        "    'SPRO': 'NPRO',\n",
        "    'APRO': 'NPRO',\n",
        "    'PRED': 'PRED',\n",
        "}\n"
      ]
    },
    {
      "cell_type": "code",
      "execution_count": null,
      "metadata": {
        "id": "gzxhrOoRAydM"
      },
      "outputs": [],
      "source": [
        "from collections import Counter\n",
        "\n",
        "df_human = pd.read_csv('people_pred.csv')\n",
        "df_human['mapped_POS'] = df_human['POS'].map(pos_mapping)\n",
        "\n",
        "\n",
        "def analyze_word(word):\n",
        "    parsed = morph.parse(str(word))[0]\n",
        "    lemma = parsed.normal_form\n",
        "    pos = parsed.tag.POS\n",
        "    grammemes = parsed.tag\n",
        "    word_len = len(str(word))\n",
        "    lemma_len = len(lemma)\n",
        "    length_cat = \"short\" if lemma_len <= 4 else \"medium\" if lemma_len <= 7 else \"long\"\n",
        "    return pd.Series([lemma, pos, str(grammemes), word_len, lemma_len, length_cat],\n",
        "                     index=['answer_lemma', 'answer_pos', 'answer_form', 'answer_len', 'lemma_len', 'length_category'])\n",
        "\n",
        "\n",
        "df_human = df_human.join(df_human['answer'].apply(analyze_word))\n",
        "\n",
        "# Сравнение слов и частей речи\n",
        "df_human['match_word'] = df_human.apply(lambda row: row['answer_lemma'] == str(row['word.id']).lower(), axis=1)\n",
        "df_human['match_pos'] = df_human.apply(lambda row: row['mapped_POS'] == row['answer_pos'], axis=1)"
      ]
    }
  ],
  "metadata": {
    "accelerator": "GPU",
    "colab": {
      "gpuType": "T4",
      "provenance": []
    },
    "kernelspec": {
      "display_name": "Python 3",
      "name": "python3"
    },
    "language_info": {
      "name": "python"
    }
  },
  "nbformat": 4,
  "nbformat_minor": 0
}